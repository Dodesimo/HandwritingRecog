{
 "cells": [
  {
   "cell_type": "code",
   "execution_count": 53,
   "outputs": [],
   "source": [
    "import pandas as pd\n",
    "import numpy as np\n",
    "from matplotlib import pyplot as plt"
   ],
   "metadata": {
    "collapsed": false,
    "pycharm": {
     "name": "#%%\n"
    }
   }
  },
  {
   "cell_type": "code",
   "execution_count": 54,
   "outputs": [],
   "source": [
    "data = pd.read_csv('train.csv')"
   ],
   "metadata": {
    "collapsed": false,
    "pycharm": {
     "name": "#%%\n"
    }
   }
  },
  {
   "cell_type": "code",
   "execution_count": 55,
   "outputs": [
    {
     "data": {
      "text/plain": "   label  pixel0  pixel1  pixel2  pixel3  pixel4  pixel5  pixel6  pixel7  \\\n0      1       0       0       0       0       0       0       0       0   \n1      0       0       0       0       0       0       0       0       0   \n2      1       0       0       0       0       0       0       0       0   \n3      4       0       0       0       0       0       0       0       0   \n4      0       0       0       0       0       0       0       0       0   \n\n   pixel8  ...  pixel774  pixel775  pixel776  pixel777  pixel778  pixel779  \\\n0       0  ...         0         0         0         0         0         0   \n1       0  ...         0         0         0         0         0         0   \n2       0  ...         0         0         0         0         0         0   \n3       0  ...         0         0         0         0         0         0   \n4       0  ...         0         0         0         0         0         0   \n\n   pixel780  pixel781  pixel782  pixel783  \n0         0         0         0         0  \n1         0         0         0         0  \n2         0         0         0         0  \n3         0         0         0         0  \n4         0         0         0         0  \n\n[5 rows x 785 columns]",
      "text/html": "<div>\n<style scoped>\n    .dataframe tbody tr th:only-of-type {\n        vertical-align: middle;\n    }\n\n    .dataframe tbody tr th {\n        vertical-align: top;\n    }\n\n    .dataframe thead th {\n        text-align: right;\n    }\n</style>\n<table border=\"1\" class=\"dataframe\">\n  <thead>\n    <tr style=\"text-align: right;\">\n      <th></th>\n      <th>label</th>\n      <th>pixel0</th>\n      <th>pixel1</th>\n      <th>pixel2</th>\n      <th>pixel3</th>\n      <th>pixel4</th>\n      <th>pixel5</th>\n      <th>pixel6</th>\n      <th>pixel7</th>\n      <th>pixel8</th>\n      <th>...</th>\n      <th>pixel774</th>\n      <th>pixel775</th>\n      <th>pixel776</th>\n      <th>pixel777</th>\n      <th>pixel778</th>\n      <th>pixel779</th>\n      <th>pixel780</th>\n      <th>pixel781</th>\n      <th>pixel782</th>\n      <th>pixel783</th>\n    </tr>\n  </thead>\n  <tbody>\n    <tr>\n      <th>0</th>\n      <td>1</td>\n      <td>0</td>\n      <td>0</td>\n      <td>0</td>\n      <td>0</td>\n      <td>0</td>\n      <td>0</td>\n      <td>0</td>\n      <td>0</td>\n      <td>0</td>\n      <td>...</td>\n      <td>0</td>\n      <td>0</td>\n      <td>0</td>\n      <td>0</td>\n      <td>0</td>\n      <td>0</td>\n      <td>0</td>\n      <td>0</td>\n      <td>0</td>\n      <td>0</td>\n    </tr>\n    <tr>\n      <th>1</th>\n      <td>0</td>\n      <td>0</td>\n      <td>0</td>\n      <td>0</td>\n      <td>0</td>\n      <td>0</td>\n      <td>0</td>\n      <td>0</td>\n      <td>0</td>\n      <td>0</td>\n      <td>...</td>\n      <td>0</td>\n      <td>0</td>\n      <td>0</td>\n      <td>0</td>\n      <td>0</td>\n      <td>0</td>\n      <td>0</td>\n      <td>0</td>\n      <td>0</td>\n      <td>0</td>\n    </tr>\n    <tr>\n      <th>2</th>\n      <td>1</td>\n      <td>0</td>\n      <td>0</td>\n      <td>0</td>\n      <td>0</td>\n      <td>0</td>\n      <td>0</td>\n      <td>0</td>\n      <td>0</td>\n      <td>0</td>\n      <td>...</td>\n      <td>0</td>\n      <td>0</td>\n      <td>0</td>\n      <td>0</td>\n      <td>0</td>\n      <td>0</td>\n      <td>0</td>\n      <td>0</td>\n      <td>0</td>\n      <td>0</td>\n    </tr>\n    <tr>\n      <th>3</th>\n      <td>4</td>\n      <td>0</td>\n      <td>0</td>\n      <td>0</td>\n      <td>0</td>\n      <td>0</td>\n      <td>0</td>\n      <td>0</td>\n      <td>0</td>\n      <td>0</td>\n      <td>...</td>\n      <td>0</td>\n      <td>0</td>\n      <td>0</td>\n      <td>0</td>\n      <td>0</td>\n      <td>0</td>\n      <td>0</td>\n      <td>0</td>\n      <td>0</td>\n      <td>0</td>\n    </tr>\n    <tr>\n      <th>4</th>\n      <td>0</td>\n      <td>0</td>\n      <td>0</td>\n      <td>0</td>\n      <td>0</td>\n      <td>0</td>\n      <td>0</td>\n      <td>0</td>\n      <td>0</td>\n      <td>0</td>\n      <td>...</td>\n      <td>0</td>\n      <td>0</td>\n      <td>0</td>\n      <td>0</td>\n      <td>0</td>\n      <td>0</td>\n      <td>0</td>\n      <td>0</td>\n      <td>0</td>\n      <td>0</td>\n    </tr>\n  </tbody>\n</table>\n<p>5 rows × 785 columns</p>\n</div>"
     },
     "execution_count": 55,
     "metadata": {},
     "output_type": "execute_result"
    }
   ],
   "source": [
    "data.head()"
   ],
   "metadata": {
    "collapsed": false,
    "pycharm": {
     "name": "#%%\n"
    }
   }
  },
  {
   "cell_type": "code",
   "execution_count": 56,
   "outputs": [],
   "source": [
    "data = np.array(data)\n",
    "m, n = data.shape\n",
    "np.random.shuffle(data)\n",
    "\n",
    "data_dev = data[0:1000].T\n",
    "Y_dev = data_dev[0]\n",
    "X_dev = data_dev[1:n]\n",
    "\n",
    "data_train = data[1000:m].T\n",
    "Y_train = data_train[0]\n",
    "X_train = data_train[1:n]\n",
    "X_train = X_train/255\n",
    "_, m_train = X_train.shape"
   ],
   "metadata": {
    "collapsed": false,
    "pycharm": {
     "name": "#%%\n"
    }
   }
  },
  {
   "cell_type": "code",
   "execution_count": 57,
   "outputs": [],
   "source": [
    "def init_params():\n",
    "    W1 = np.random.rand(10, 784) - 0.5\n",
    "    b1 = np.random.rand(10, 1) - 0.5\n",
    "    W2 = np.random.rand(10, 10) - 0.5\n",
    "    b2 = np.random.rand(10, 1) - 0.5\n",
    "    return W1, b1, W2, b2\n",
    "\n",
    "def ReLU(Z):\n",
    "    return np.maximum(Z, 0)\n",
    "\n",
    "def softmax(Z):\n",
    "    A = np.exp(Z) / sum(np.exp(Z))\n",
    "    return A\n",
    "\n",
    "def forward_prop(W1, b1, W2, b2, X):\n",
    "    Z1 = W1.dot(X) + b1\n",
    "    A1 = ReLU(Z1)\n",
    "    Z2 = W2.dot(A1) + b2\n",
    "    A2 = softmax(Z2)\n",
    "    return Z1, A1, Z2, A2\n",
    "\n",
    "def ReLU_deriv(Z):\n",
    "    return Z > 0\n",
    "\n",
    "def one_hot(Y):\n",
    "    one_hot_Y = np.zeros((Y.size, Y.max() + 1))\n",
    "    one_hot_Y[np.arange(Y.size), Y] = 1\n",
    "    one_hot_Y = one_hot_Y.T\n",
    "    return one_hot_Y\n",
    "\n",
    "def backward_prop(Z1, A1, Z2, A2, W1, W2, X, Y):\n",
    "    one_hot_Y = one_hot(Y)\n",
    "    dZ2 = A2 - one_hot_Y\n",
    "    dW2 = 1 / m * dZ2.dot(A1.T)\n",
    "    db2 = 1 / m * np.sum(dZ2)\n",
    "    dZ1 = W2.T.dot(dZ2) * ReLU_deriv(Z1)\n",
    "    dW1 = 1 / m * dZ1.dot(X.T)\n",
    "    db1 = 1 / m * np.sum(dZ1)\n",
    "    return dW1, db1, dW2, db2\n",
    "\n",
    "def update_params(W1, b1, W2, b2, dW1, db1, dW2, db2, alpha):\n",
    "    W1 = W1 - alpha * dW1\n",
    "    b1 = b1 - alpha * db1\n",
    "    W2 = W2 - alpha * dW2\n",
    "    b2 = b2 - alpha * db2\n",
    "    return W1, b1, W2, b2"
   ],
   "metadata": {
    "collapsed": false,
    "pycharm": {
     "name": "#%%\n"
    }
   }
  },
  {
   "cell_type": "code",
   "execution_count": 58,
   "outputs": [],
   "source": [
    "def get_predictions(A2):\n",
    "    return np.argmax(A2, 0)\n",
    "\n",
    "def get_accuracy(predictions, Y):\n",
    "    print(predictions, Y)\n",
    "    return np.sum(predictions == Y) / Y.size\n",
    "\n",
    "def gradient_descent(X, Y, alpha, iterations):\n",
    "    W1, b1, W2, b2 = init_params()\n",
    "    for i in range(iterations):\n",
    "        Z1, A1, Z2, A2 = forward_prop(W1, b1, W2, b2, X)\n",
    "        dW1, db1, dW2, db2 = backward_prop(Z1, A1, Z2, A2, W1, W2, X, Y)\n",
    "        W1, b1, W2, b2 = update_params(W1, b1, W2, b2, dW1, db1, dW2, db2, alpha)\n",
    "        if i % 10 == 0:\n",
    "            print(\"Iteration: \", i)\n",
    "            predictions = get_predictions(A2)\n",
    "            print(get_accuracy(predictions, Y))\n",
    "    return W1, b1, W2, b2"
   ],
   "metadata": {
    "collapsed": false,
    "pycharm": {
     "name": "#%%\n"
    }
   }
  },
  {
   "cell_type": "code",
   "execution_count": 59,
   "outputs": [
    {
     "name": "stdout",
     "output_type": "stream",
     "text": [
      "Iteration:  0\n",
      "[4 4 4 ... 4 4 4] [4 0 1 ... 6 9 3]\n",
      "0.10339024390243902\n",
      "Iteration:  10\n",
      "[5 3 1 ... 2 1 0] [4 0 1 ... 6 9 3]\n",
      "0.20397560975609755\n",
      "Iteration:  20\n",
      "[5 3 1 ... 6 1 0] [4 0 1 ... 6 9 3]\n",
      "0.2604878048780488\n",
      "Iteration:  30\n",
      "[5 3 1 ... 6 6 0] [4 0 1 ... 6 9 3]\n",
      "0.3217317073170732\n",
      "Iteration:  40\n",
      "[5 4 6 ... 6 6 0] [4 0 1 ... 6 9 3]\n",
      "0.373609756097561\n",
      "Iteration:  50\n",
      "[5 4 6 ... 6 6 0] [4 0 1 ... 6 9 3]\n",
      "0.4313658536585366\n",
      "Iteration:  60\n",
      "[5 4 6 ... 6 6 0] [4 0 1 ... 6 9 3]\n",
      "0.4765121951219512\n",
      "Iteration:  70\n",
      "[5 4 6 ... 6 6 0] [4 0 1 ... 6 9 3]\n",
      "0.5112926829268293\n",
      "Iteration:  80\n",
      "[5 4 6 ... 6 6 3] [4 0 1 ... 6 9 3]\n",
      "0.5440487804878049\n",
      "Iteration:  90\n",
      "[5 4 8 ... 6 6 3] [4 0 1 ... 6 9 3]\n",
      "0.5768292682926829\n",
      "Iteration:  100\n",
      "[5 4 8 ... 6 6 3] [4 0 1 ... 6 9 3]\n",
      "0.6098780487804878\n",
      "Iteration:  110\n",
      "[5 4 8 ... 6 6 3] [4 0 1 ... 6 9 3]\n",
      "0.640390243902439\n",
      "Iteration:  120\n",
      "[5 4 8 ... 6 6 3] [4 0 1 ... 6 9 3]\n",
      "0.6644390243902439\n",
      "Iteration:  130\n",
      "[9 3 8 ... 6 4 3] [4 0 1 ... 6 9 3]\n",
      "0.6840487804878049\n",
      "Iteration:  140\n",
      "[9 3 8 ... 6 4 3] [4 0 1 ... 6 9 3]\n",
      "0.7011219512195122\n",
      "Iteration:  150\n",
      "[9 3 8 ... 6 4 3] [4 0 1 ... 6 9 3]\n",
      "0.7149512195121951\n",
      "Iteration:  160\n",
      "[9 3 8 ... 6 4 3] [4 0 1 ... 6 9 3]\n",
      "0.7269756097560975\n",
      "Iteration:  170\n",
      "[9 3 8 ... 6 4 3] [4 0 1 ... 6 9 3]\n",
      "0.7364634146341463\n",
      "Iteration:  180\n",
      "[9 3 8 ... 6 4 3] [4 0 1 ... 6 9 3]\n",
      "0.7461951219512195\n",
      "Iteration:  190\n",
      "[9 3 8 ... 6 4 3] [4 0 1 ... 6 9 3]\n",
      "0.7539756097560976\n",
      "Iteration:  200\n",
      "[9 3 8 ... 6 4 3] [4 0 1 ... 6 9 3]\n",
      "0.7607073170731707\n",
      "Iteration:  210\n",
      "[9 2 8 ... 6 4 3] [4 0 1 ... 6 9 3]\n",
      "0.7683170731707317\n",
      "Iteration:  220\n",
      "[9 2 8 ... 6 4 3] [4 0 1 ... 6 9 3]\n",
      "0.7739756097560976\n",
      "Iteration:  230\n",
      "[9 2 8 ... 6 4 3] [4 0 1 ... 6 9 3]\n",
      "0.7791707317073171\n",
      "Iteration:  240\n",
      "[9 2 8 ... 6 4 3] [4 0 1 ... 6 9 3]\n",
      "0.7846341463414634\n",
      "Iteration:  250\n",
      "[9 2 8 ... 6 4 3] [4 0 1 ... 6 9 3]\n",
      "0.7893658536585366\n",
      "Iteration:  260\n",
      "[9 2 8 ... 6 4 3] [4 0 1 ... 6 9 3]\n",
      "0.7937317073170732\n",
      "Iteration:  270\n",
      "[9 2 8 ... 6 4 3] [4 0 1 ... 6 9 3]\n",
      "0.7985609756097561\n",
      "Iteration:  280\n",
      "[9 2 8 ... 6 4 3] [4 0 1 ... 6 9 3]\n",
      "0.8023658536585366\n",
      "Iteration:  290\n",
      "[9 2 8 ... 6 4 3] [4 0 1 ... 6 9 3]\n",
      "0.8065121951219513\n",
      "Iteration:  300\n",
      "[9 2 8 ... 6 4 3] [4 0 1 ... 6 9 3]\n",
      "0.8095853658536586\n",
      "Iteration:  310\n",
      "[9 2 8 ... 6 4 3] [4 0 1 ... 6 9 3]\n",
      "0.8128536585365853\n",
      "Iteration:  320\n",
      "[9 2 8 ... 6 4 3] [4 0 1 ... 6 9 3]\n",
      "0.8159512195121951\n",
      "Iteration:  330\n",
      "[9 2 8 ... 6 4 3] [4 0 1 ... 6 9 3]\n",
      "0.8184634146341463\n",
      "Iteration:  340\n",
      "[9 2 8 ... 6 4 3] [4 0 1 ... 6 9 3]\n",
      "0.8215853658536585\n",
      "Iteration:  350\n",
      "[9 2 8 ... 6 4 3] [4 0 1 ... 6 9 3]\n",
      "0.8242926829268292\n",
      "Iteration:  360\n",
      "[9 2 8 ... 6 4 3] [4 0 1 ... 6 9 3]\n",
      "0.8272195121951219\n",
      "Iteration:  370\n",
      "[9 2 8 ... 6 4 3] [4 0 1 ... 6 9 3]\n",
      "0.8294146341463414\n",
      "Iteration:  380\n",
      "[9 2 8 ... 6 4 3] [4 0 1 ... 6 9 3]\n",
      "0.8316097560975609\n",
      "Iteration:  390\n",
      "[9 2 8 ... 6 4 3] [4 0 1 ... 6 9 3]\n",
      "0.8338780487804878\n",
      "Iteration:  400\n",
      "[9 2 8 ... 6 4 3] [4 0 1 ... 6 9 3]\n",
      "0.8359024390243902\n",
      "Iteration:  410\n",
      "[9 2 8 ... 6 4 3] [4 0 1 ... 6 9 3]\n",
      "0.8377317073170731\n",
      "Iteration:  420\n",
      "[9 2 8 ... 6 4 3] [4 0 1 ... 6 9 3]\n",
      "0.8390243902439024\n",
      "Iteration:  430\n",
      "[9 2 1 ... 6 4 3] [4 0 1 ... 6 9 3]\n",
      "0.8408536585365853\n",
      "Iteration:  440\n",
      "[9 2 1 ... 6 4 3] [4 0 1 ... 6 9 3]\n",
      "0.8425121951219512\n",
      "Iteration:  450\n",
      "[9 2 1 ... 6 4 3] [4 0 1 ... 6 9 3]\n",
      "0.8445609756097561\n",
      "Iteration:  460\n",
      "[9 2 1 ... 6 4 3] [4 0 1 ... 6 9 3]\n",
      "0.8460731707317073\n",
      "Iteration:  470\n",
      "[9 2 1 ... 6 4 3] [4 0 1 ... 6 9 3]\n",
      "0.8475365853658536\n",
      "Iteration:  480\n",
      "[9 2 1 ... 6 4 3] [4 0 1 ... 6 9 3]\n",
      "0.8487560975609756\n",
      "Iteration:  490\n",
      "[9 2 1 ... 6 4 3] [4 0 1 ... 6 9 3]\n",
      "0.8500243902439024\n"
     ]
    }
   ],
   "source": [
    "W1, b1, W2, b2 = gradient_descent(X_train, Y_train, 0.10, 500)"
   ],
   "metadata": {
    "collapsed": false,
    "pycharm": {
     "name": "#%%\n"
    }
   }
  }
 ],
 "metadata": {
  "kernelspec": {
   "display_name": "Python 3",
   "language": "python",
   "name": "python3"
  },
  "language_info": {
   "codemirror_mode": {
    "name": "ipython",
    "version": 2
   },
   "file_extension": ".py",
   "mimetype": "text/x-python",
   "name": "python",
   "nbconvert_exporter": "python",
   "pygments_lexer": "ipython2",
   "version": "2.7.6"
  }
 },
 "nbformat": 4,
 "nbformat_minor": 0
}